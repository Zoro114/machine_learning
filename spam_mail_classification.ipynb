{
 "cells": [
  {
   "cell_type": "code",
   "execution_count": 34,
   "id": "2235da41",
   "metadata": {},
   "outputs": [],
   "source": [
    "import pandas as pd\n",
    "from sklearn.feature_extraction.text import TfidfVectorizer\n",
    "from sklearn.model_selection import train_test_split\n",
    "from sklearn.linear_model import LogisticRegression\n",
    "from sklearn import metrics"
   ]
  },
  {
   "cell_type": "code",
   "execution_count": 2,
   "id": "aafeb9fe",
   "metadata": {},
   "outputs": [],
   "source": [
    "mail_dataset=pd.read_csv(\"mail_data.csv\")"
   ]
  },
  {
   "cell_type": "code",
   "execution_count": 3,
   "id": "76f2ba5a",
   "metadata": {},
   "outputs": [
    {
     "data": {
      "text/html": [
       "<div>\n",
       "<style scoped>\n",
       "    .dataframe tbody tr th:only-of-type {\n",
       "        vertical-align: middle;\n",
       "    }\n",
       "\n",
       "    .dataframe tbody tr th {\n",
       "        vertical-align: top;\n",
       "    }\n",
       "\n",
       "    .dataframe thead th {\n",
       "        text-align: right;\n",
       "    }\n",
       "</style>\n",
       "<table border=\"1\" class=\"dataframe\">\n",
       "  <thead>\n",
       "    <tr style=\"text-align: right;\">\n",
       "      <th></th>\n",
       "      <th>Category</th>\n",
       "      <th>Message</th>\n",
       "    </tr>\n",
       "  </thead>\n",
       "  <tbody>\n",
       "    <tr>\n",
       "      <th>0</th>\n",
       "      <td>ham</td>\n",
       "      <td>Go until jurong point, crazy.. Available only ...</td>\n",
       "    </tr>\n",
       "    <tr>\n",
       "      <th>1</th>\n",
       "      <td>ham</td>\n",
       "      <td>Ok lar... Joking wif u oni...</td>\n",
       "    </tr>\n",
       "    <tr>\n",
       "      <th>2</th>\n",
       "      <td>spam</td>\n",
       "      <td>Free entry in 2 a wkly comp to win FA Cup fina...</td>\n",
       "    </tr>\n",
       "    <tr>\n",
       "      <th>3</th>\n",
       "      <td>ham</td>\n",
       "      <td>U dun say so early hor... U c already then say...</td>\n",
       "    </tr>\n",
       "    <tr>\n",
       "      <th>4</th>\n",
       "      <td>ham</td>\n",
       "      <td>Nah I don't think he goes to usf, he lives aro...</td>\n",
       "    </tr>\n",
       "  </tbody>\n",
       "</table>\n",
       "</div>"
      ],
      "text/plain": [
       "  Category                                            Message\n",
       "0      ham  Go until jurong point, crazy.. Available only ...\n",
       "1      ham                      Ok lar... Joking wif u oni...\n",
       "2     spam  Free entry in 2 a wkly comp to win FA Cup fina...\n",
       "3      ham  U dun say so early hor... U c already then say...\n",
       "4      ham  Nah I don't think he goes to usf, he lives aro..."
      ]
     },
     "execution_count": 3,
     "metadata": {},
     "output_type": "execute_result"
    }
   ],
   "source": [
    "mail_dataset.head()"
   ]
  },
  {
   "cell_type": "code",
   "execution_count": 5,
   "id": "3a285ec2",
   "metadata": {},
   "outputs": [
    {
     "data": {
      "text/plain": [
       "Category    0\n",
       "Message     0\n",
       "dtype: int64"
      ]
     },
     "execution_count": 5,
     "metadata": {},
     "output_type": "execute_result"
    }
   ],
   "source": [
    "mail_dataset.isna().sum()"
   ]
  },
  {
   "cell_type": "code",
   "execution_count": 10,
   "id": "d7ccc4b5",
   "metadata": {},
   "outputs": [],
   "source": [
    "mail_dataset.loc[mail_dataset['Category']=='ham','Category',]=1\n",
    "mail_dataset.loc[mail_dataset['Category'] == 'spam', 'Category',] = 0"
   ]
  },
  {
   "cell_type": "code",
   "execution_count": 11,
   "id": "d37e75cc",
   "metadata": {},
   "outputs": [
    {
     "data": {
      "text/html": [
       "<div>\n",
       "<style scoped>\n",
       "    .dataframe tbody tr th:only-of-type {\n",
       "        vertical-align: middle;\n",
       "    }\n",
       "\n",
       "    .dataframe tbody tr th {\n",
       "        vertical-align: top;\n",
       "    }\n",
       "\n",
       "    .dataframe thead th {\n",
       "        text-align: right;\n",
       "    }\n",
       "</style>\n",
       "<table border=\"1\" class=\"dataframe\">\n",
       "  <thead>\n",
       "    <tr style=\"text-align: right;\">\n",
       "      <th></th>\n",
       "      <th>Category</th>\n",
       "      <th>Message</th>\n",
       "    </tr>\n",
       "  </thead>\n",
       "  <tbody>\n",
       "    <tr>\n",
       "      <th>0</th>\n",
       "      <td>1</td>\n",
       "      <td>Go until jurong point, crazy.. Available only ...</td>\n",
       "    </tr>\n",
       "    <tr>\n",
       "      <th>1</th>\n",
       "      <td>1</td>\n",
       "      <td>Ok lar... Joking wif u oni...</td>\n",
       "    </tr>\n",
       "    <tr>\n",
       "      <th>2</th>\n",
       "      <td>0</td>\n",
       "      <td>Free entry in 2 a wkly comp to win FA Cup fina...</td>\n",
       "    </tr>\n",
       "    <tr>\n",
       "      <th>3</th>\n",
       "      <td>1</td>\n",
       "      <td>U dun say so early hor... U c already then say...</td>\n",
       "    </tr>\n",
       "    <tr>\n",
       "      <th>4</th>\n",
       "      <td>1</td>\n",
       "      <td>Nah I don't think he goes to usf, he lives aro...</td>\n",
       "    </tr>\n",
       "  </tbody>\n",
       "</table>\n",
       "</div>"
      ],
      "text/plain": [
       "  Category                                            Message\n",
       "0        1  Go until jurong point, crazy.. Available only ...\n",
       "1        1                      Ok lar... Joking wif u oni...\n",
       "2        0  Free entry in 2 a wkly comp to win FA Cup fina...\n",
       "3        1  U dun say so early hor... U c already then say...\n",
       "4        1  Nah I don't think he goes to usf, he lives aro..."
      ]
     },
     "execution_count": 11,
     "metadata": {},
     "output_type": "execute_result"
    }
   ],
   "source": [
    "mail_dataset.head()"
   ]
  },
  {
   "cell_type": "code",
   "execution_count": 12,
   "id": "478eca0a",
   "metadata": {},
   "outputs": [],
   "source": [
    "x=mail_dataset['Message']\n",
    "y=mail_dataset['Category']"
   ]
  },
  {
   "cell_type": "code",
   "execution_count": 29,
   "id": "d81b99b1",
   "metadata": {},
   "outputs": [
    {
     "data": {
      "text/plain": [
       "(5572,)"
      ]
     },
     "execution_count": 29,
     "metadata": {},
     "output_type": "execute_result"
    }
   ],
   "source": [
    "vectorizer=TfidfVectorizer(min_df=1,stop_words='english',lowercase='True')\n",
    "vectorizer.fit(x)\n",
    "X=vectorizer.transform(x)"
   ]
  },
  {
   "cell_type": "code",
   "execution_count": 22,
   "id": "d33d35ee",
   "metadata": {},
   "outputs": [
    {
     "name": "stdout",
     "output_type": "stream",
     "text": [
      "  (0, 8281)\t0.23740715800944148\n",
      "  (0, 8079)\t0.1961033223643189\n",
      "  (0, 5775)\t0.27451666535585145\n",
      "  (0, 4370)\t0.29650492406235857\n",
      "  (0, 4244)\t0.35097479377088364\n",
      "  (0, 3551)\t0.19387866945820545\n",
      "  (0, 3511)\t0.16453831818791093\n",
      "  (0, 2278)\t0.27180581777101714\n",
      "  (0, 2003)\t0.29650492406235857\n",
      "  (0, 1715)\t0.29650492406235857\n",
      "  (0, 1713)\t0.3350433781715565\n",
      "  (0, 1281)\t0.26251769953088055\n",
      "  (0, 1061)\t0.35097479377088364\n",
      "  (1, 8187)\t0.43162957585464123\n",
      "  (1, 5399)\t0.5466243141314314\n",
      "  (1, 5373)\t0.2718944069420321\n",
      "  (1, 4406)\t0.4083258549263009\n",
      "  (1, 4212)\t0.5236804332035243\n",
      "  (2, 8239)\t0.19287984407221886\n",
      "  (2, 8199)\t0.1495331549185277\n",
      "  (2, 7750)\t0.12585247610650566\n",
      "  (2, 7565)\t0.22351170844117557\n",
      "  (2, 7433)\t0.124380339961756\n",
      "  (2, 7073)\t0.19910160498748308\n",
      "  (2, 6154)\t0.16925521015250053\n",
      "  :\t:\n",
      "  (5567, 2009)\t0.18662411374983584\n",
      "  (5567, 1701)\t0.2276693877664076\n",
      "  (5567, 707)\t0.2498172309216542\n",
      "  (5567, 464)\t0.23453927693676727\n",
      "  (5567, 307)\t0.24294734175129454\n",
      "  (5567, 165)\t0.33657880027391784\n",
      "  (5568, 3809)\t0.3652059777476414\n",
      "  (5568, 3480)\t0.3642369776828009\n",
      "  (5568, 3263)\t0.5597098620657655\n",
      "  (5568, 2917)\t0.6485991737677518\n",
      "  (5569, 7213)\t0.6095307789831879\n",
      "  (5569, 5707)\t0.6095307789831879\n",
      "  (5569, 5018)\t0.5068968918274174\n",
      "  (5570, 8125)\t0.23564264513684635\n",
      "  (5570, 4508)\t0.19998200231369734\n",
      "  (5570, 4063)\t0.35475111861632075\n",
      "  (5570, 3605)\t0.30408849117263737\n",
      "  (5570, 3388)\t0.3451679596114425\n",
      "  (5570, 3276)\t0.19998200231369734\n",
      "  (5570, 2542)\t0.23105123281877282\n",
      "  (5570, 1749)\t0.35475111861632075\n",
      "  (5570, 1511)\t0.42657930865550353\n",
      "  (5570, 908)\t0.40721605986134385\n",
      "  (5571, 7705)\t0.6048659564126764\n",
      "  (5571, 6362)\t0.7963273037972378\n"
     ]
    }
   ],
   "source": [
    "print(X)"
   ]
  },
  {
   "cell_type": "code",
   "execution_count": 42,
   "id": "2f66ed6b",
   "metadata": {},
   "outputs": [
    {
     "data": {
      "text/plain": [
       "710     0\n",
       "3740    1\n",
       "2711    0\n",
       "3155    0\n",
       "3748    1\n",
       "       ..\n",
       "905     1\n",
       "5192    1\n",
       "3980    1\n",
       "235     0\n",
       "5157    1\n",
       "Name: Category, Length: 4179, dtype: object"
      ]
     },
     "execution_count": 42,
     "metadata": {},
     "output_type": "execute_result"
    }
   ],
   "source": [
    "x_train,x_test,y_train,y_test=train_test_split(X,y,random_state=1)\n",
    "y_train"
   ]
  },
  {
   "cell_type": "code",
   "execution_count": 48,
   "id": "e6f0d535",
   "metadata": {},
   "outputs": [],
   "source": [
    "y_train=y_train.astype('int')\n",
    "y_test=y_test.astype('int')"
   ]
  },
  {
   "cell_type": "code",
   "execution_count": 49,
   "id": "cbf8b73e",
   "metadata": {},
   "outputs": [],
   "source": [
    "model=LogisticRegression()"
   ]
  },
  {
   "cell_type": "code",
   "execution_count": 50,
   "id": "6866d40e",
   "metadata": {},
   "outputs": [
    {
     "data": {
      "text/plain": [
       "LogisticRegression()"
      ]
     },
     "execution_count": 50,
     "metadata": {},
     "output_type": "execute_result"
    }
   ],
   "source": [
    "model.fit(x_train,y_train)"
   ]
  },
  {
   "cell_type": "code",
   "execution_count": 51,
   "id": "e3853994",
   "metadata": {},
   "outputs": [],
   "source": [
    "y_train_pred=model.predict(x_train)"
   ]
  },
  {
   "cell_type": "code",
   "execution_count": 52,
   "id": "061f6f69",
   "metadata": {},
   "outputs": [],
   "source": [
    "y_test_pred=model.predict(x_test)"
   ]
  },
  {
   "cell_type": "code",
   "execution_count": 55,
   "id": "0ca29973",
   "metadata": {},
   "outputs": [
    {
     "data": {
      "text/plain": [
       "0.9662598707824839"
      ]
     },
     "execution_count": 55,
     "metadata": {},
     "output_type": "execute_result"
    }
   ],
   "source": [
    "train_score=metrics.accuracy_score(y_train,y_train_pred)\n",
    "train_score"
   ]
  },
  {
   "cell_type": "code",
   "execution_count": 57,
   "id": "48c29c51",
   "metadata": {},
   "outputs": [
    {
     "data": {
      "text/plain": [
       "0.9597989949748744"
      ]
     },
     "execution_count": 57,
     "metadata": {},
     "output_type": "execute_result"
    }
   ],
   "source": [
    "test_score=metrics.accuracy_score(y_test,y_test_pred)\n",
    "test_score"
   ]
  },
  {
   "cell_type": "code",
   "execution_count": null,
   "id": "54b0e4be",
   "metadata": {},
   "outputs": [],
   "source": []
  }
 ],
 "metadata": {
  "kernelspec": {
   "display_name": "Python 3",
   "language": "python",
   "name": "python3"
  },
  "language_info": {
   "codemirror_mode": {
    "name": "ipython",
    "version": 3
   },
   "file_extension": ".py",
   "mimetype": "text/x-python",
   "name": "python",
   "nbconvert_exporter": "python",
   "pygments_lexer": "ipython3",
   "version": "3.8.8"
  }
 },
 "nbformat": 4,
 "nbformat_minor": 5
}
