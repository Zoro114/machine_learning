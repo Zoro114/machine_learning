{
 "cells": [
  {
   "cell_type": "code",
   "execution_count": 1,
   "id": "ed73d4e2",
   "metadata": {},
   "outputs": [],
   "source": [
    "import numpy as np"
   ]
  },
  {
   "cell_type": "code",
   "execution_count": 17,
   "id": "2c0c3db8",
   "metadata": {},
   "outputs": [],
   "source": [
    "def fit(x_train,y_train):\n",
    "    result={}\n",
    "    class_values=set(y_train)\n",
    "    for current_value in class_values:\n",
    "        result[current_value]={}\n",
    "        result[\"total_data\"]=len(y_train)\n",
    "        class_current_row=(y_train==current_value)\n",
    "        x_train_current=x_train[class_current_row]\n",
    "        y_train_current=y_train[class_current_row]\n",
    "        result[current_value][\"total_count\"]=len(y_train_current)\n",
    "        num_features=x_train.shape[1]\n",
    "        \n",
    "        for j in range(1,num_features+1):\n",
    "            result[current_value][j]={}\n",
    "            all_possible_values=x_train[:,j-1]\n",
    "            \n",
    "            for value in all_possible_values:\n",
    "                result[current_value][j][value]=(x_train_current[:,j-1]==value).sum()\n",
    "    \n",
    "    return result"
   ]
  },
  {
   "cell_type": "code",
   "execution_count": 47,
   "id": "e35b78a8",
   "metadata": {},
   "outputs": [],
   "source": [
    "def probablity(dict,x,current_class):\n",
    "    output=np.log(dict[current_class][\"total_count\"])- np.log(dict[\"total_data\"])\n",
    "    num_features=(len(dict[current_class].keys()))-1\n",
    "    for j in range(1,num_features+1):\n",
    "        xj=x[j-1]\n",
    "        count_current_class_with_xj=dict[current_class][j][xj]+1\n",
    "        count_current_class=dict[current_class][\"total_count\"]+len(dict[current_class][j].keys())\n",
    "        current_xj_probablity=np.log(count_current_class_with_xj)- np.log(count_current_class)\n",
    "        output=output + current_xj_probablity\n",
    "        \n",
    "    return output"
   ]
  },
  {
   "cell_type": "code",
   "execution_count": 30,
   "id": "cf067a10",
   "metadata": {},
   "outputs": [],
   "source": [
    "def predictsiglepoint(dict,x):\n",
    "    classes =dict.keys()\n",
    "    bestp=-1000\n",
    "    best_class=-1\n",
    "    first_run=True\n",
    "    for current_class in classes:\n",
    "        if current_class==\"total_data\":\n",
    "            continue\n",
    "        p_current_class=probablity(dict,x,current_class)\n",
    "        if first_run or p_current_class>bestp:\n",
    "            bestp=p_current_class\n",
    "            best_class=current_class\n",
    "        first_run=False\n",
    "    return best_class"
   ]
  },
  {
   "cell_type": "code",
   "execution_count": 31,
   "id": "deb6fe56",
   "metadata": {},
   "outputs": [],
   "source": [
    "def predict(dict,x_test):\n",
    "    y_pred=[]\n",
    "    for x in x_test:\n",
    "        x_class =predictsiglepoint(dict,x)\n",
    "        y_pred.append(x_class)\n",
    "    return y_pred"
   ]
  },
  {
   "cell_type": "code",
   "execution_count": 21,
   "id": "abdeec2d",
   "metadata": {},
   "outputs": [],
   "source": [
    "def makelabel(column):\n",
    "    second_limit=column.mean()\n",
    "    first_limit=0.5*second_limit\n",
    "    third_limit=1.5*second_limit\n",
    "    for i in range(0,len(column)):\n",
    "        if column[i]<first_limit:\n",
    "            column[i]=0\n",
    "        elif column[i]<second_limit:\n",
    "            column[i]=1        \n",
    "        elif column[i]<third_limit:\n",
    "            column[i]=2\n",
    "        else:\n",
    "            column[i]=3\n",
    "            \n",
    "            \n",
    "    return column\n",
    "            "
   ]
  },
  {
   "cell_type": "code",
   "execution_count": 22,
   "id": "d160e934",
   "metadata": {},
   "outputs": [],
   "source": [
    "from sklearn import datasets\n",
    "iris=datasets.load_iris()\n",
    "x=iris.data\n",
    "y=iris.target"
   ]
  },
  {
   "cell_type": "code",
   "execution_count": 50,
   "id": "9db11627",
   "metadata": {},
   "outputs": [],
   "source": [
    "for i in range(0,x.shape[-1]):\n",
    "    x[:,i]=makelabel(x[:,i])"
   ]
  },
  {
   "cell_type": "code",
   "execution_count": 25,
   "id": "d4e22a23",
   "metadata": {},
   "outputs": [],
   "source": [
    "from sklearn.model_selection import train_test_split\n",
    "x_train,x_test,y_train,y_test=train_test_split(x,y,random_state=1)"
   ]
  },
  {
   "cell_type": "code",
   "execution_count": 26,
   "id": "929920d1",
   "metadata": {},
   "outputs": [],
   "source": [
    "dictionary=fit(x_train,y_train)"
   ]
  },
  {
   "cell_type": "code",
   "execution_count": 48,
   "id": "eed06a4f",
   "metadata": {},
   "outputs": [],
   "source": [
    "y_pred=predict(dictionary,x_test)"
   ]
  },
  {
   "cell_type": "code",
   "execution_count": 49,
   "id": "b66f0ff8",
   "metadata": {},
   "outputs": [
    {
     "data": {
      "text/plain": [
       "array([[13,  0,  0],\n",
       "       [ 0, 16,  0],\n",
       "       [ 0,  0,  9]], dtype=int64)"
      ]
     },
     "execution_count": 49,
     "metadata": {},
     "output_type": "execute_result"
    }
   ],
   "source": [
    "from sklearn.metrics import confusion_matrix\n",
    "confusion_matrix(y_test,y_pred)"
   ]
  },
  {
   "cell_type": "code",
   "execution_count": null,
   "id": "d76200bb",
   "metadata": {},
   "outputs": [],
   "source": []
  }
 ],
 "metadata": {
  "kernelspec": {
   "display_name": "Python 3",
   "language": "python",
   "name": "python3"
  },
  "language_info": {
   "codemirror_mode": {
    "name": "ipython",
    "version": 3
   },
   "file_extension": ".py",
   "mimetype": "text/x-python",
   "name": "python",
   "nbconvert_exporter": "python",
   "pygments_lexer": "ipython3",
   "version": "3.8.8"
  }
 },
 "nbformat": 4,
 "nbformat_minor": 5
}
