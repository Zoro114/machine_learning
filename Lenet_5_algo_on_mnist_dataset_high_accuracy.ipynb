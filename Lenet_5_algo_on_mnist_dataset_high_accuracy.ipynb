{
  "nbformat": 4,
  "nbformat_minor": 0,
  "metadata": {
    "colab": {
      "name": "Lenet 5 algo on mnist dataset high accuracy.ipynb",
      "provenance": [],
      "authorship_tag": "ABX9TyOxboBgOrPj1gSrGZvebVCG",
      "include_colab_link": true
    },
    "kernelspec": {
      "name": "python3",
      "display_name": "Python 3"
    },
    "language_info": {
      "name": "python"
    }
  },
  "cells": [
    {
      "cell_type": "markdown",
      "metadata": {
        "id": "view-in-github",
        "colab_type": "text"
      },
      "source": [
        "<a href=\"https://colab.research.google.com/github/Zoro114/machine_learning/blob/main/Lenet_5_algo_on_mnist_dataset_high_accuracy.ipynb\" target=\"_parent\"><img src=\"https://colab.research.google.com/assets/colab-badge.svg\" alt=\"Open In Colab\"/></a>"
      ]
    },
    {
      "cell_type": "code",
      "execution_count": null,
      "metadata": {
        "id": "cvltlQGcOXWa"
      },
      "outputs": [],
      "source": [
        "import tensorflow as tf\n",
        "from tensorflow import keras\n",
        "import numpy as np\n",
        "from sklearn.metrics import confusion_matrix,plot_confusion_matrix\n",
        "import matplotlib.pyplot as plt\n"
      ]
    },
    {
      "cell_type": "code",
      "source": [
        "(X_train,y_train),(X_test,y_test)=keras.datasets.mnist.load_data()"
      ],
      "metadata": {
        "id": "DoiizQDpOiEd"
      },
      "execution_count": null,
      "outputs": []
    },
    {
      "cell_type": "code",
      "source": [
        "X_train=X_train/255\n",
        "X_test=X_test/255\n",
        "X_train[1,:28,:28].shape"
      ],
      "metadata": {
        "colab": {
          "base_uri": "https://localhost:8080/"
        },
        "id": "RYzTB2KHPAzZ",
        "outputId": "dda00fa1-82f3-44b5-b940-7d9d14bb6e71"
      },
      "execution_count": null,
      "outputs": [
        {
          "output_type": "execute_result",
          "data": {
            "text/plain": [
              "(28, 28)"
            ]
          },
          "metadata": {},
          "execution_count": 3
        }
      ]
    },
    {
      "cell_type": "code",
      "source": [
        "X_val=X_train[:5000]\n",
        "y_val=y_train[:5000]"
      ],
      "metadata": {
        "id": "6SJq34vWPTn6"
      },
      "execution_count": null,
      "outputs": []
    },
    {
      "cell_type": "code",
      "source": [
        "lenet_5_model = keras.models.Sequential([\n",
        "    keras.layers.Conv2D(6, kernel_size=5, strides=1,  activation='tanh', input_shape=(28,28,1), padding='same'),\n",
        "    keras.layers.AveragePooling2D(),\n",
        "    keras.layers.Conv2D(16, kernel_size=5, strides=1, activation='tanh', padding='valid'),\n",
        "    keras.layers.AveragePooling2D(),\n",
        "    keras.layers.Conv2D(120, kernel_size=5, strides=1, activation='tanh', padding='valid'),\n",
        "    keras.layers.Flatten(),  \n",
        "    keras.layers.Dense(84, activation='tanh'),\n",
        "    keras.layers.Dense(10, activation='softmax') \n",
        "])"
      ],
      "metadata": {
        "id": "ravntFJ6X4_4"
      },
      "execution_count": null,
      "outputs": []
    },
    {
      "cell_type": "code",
      "source": [
        "lenet_5_model\n"
      ],
      "metadata": {
        "colab": {
          "base_uri": "https://localhost:8080/"
        },
        "id": "lzF0fqC1Z2hc",
        "outputId": "0e3da9ad-aca2-4b05-c965-15e013045fda"
      },
      "execution_count": null,
      "outputs": [
        {
          "output_type": "execute_result",
          "data": {
            "text/plain": [
              "<keras.engine.sequential.Sequential at 0x7fe7c53115d0>"
            ]
          },
          "metadata": {},
          "execution_count": 6
        }
      ]
    },
    {
      "cell_type": "code",
      "source": [
        "lenet_5_model.compile(optimizer='adam',loss=keras.losses.sparse_categorical_crossentropy,metrics=['accuracy'])"
      ],
      "metadata": {
        "id": "LDIG7Nc7PteP"
      },
      "execution_count": null,
      "outputs": []
    },
    {
      "cell_type": "code",
      "source": [
        "lenet_5_model.fit(X_train,y_train,epochs=5,validation_data=(X_val,y_val))"
      ],
      "metadata": {
        "colab": {
          "base_uri": "https://localhost:8080/"
        },
        "id": "QeS_cbgrV4Xd",
        "outputId": "59c8bc39-d1b4-4b04-c489-995fb443c3de"
      },
      "execution_count": null,
      "outputs": [
        {
          "output_type": "stream",
          "name": "stdout",
          "text": [
            "Epoch 1/5\n",
            "1875/1875 [==============================] - 54s 28ms/step - loss: 0.2182 - accuracy: 0.9362 - val_loss: 0.0896 - val_accuracy: 0.9746\n",
            "Epoch 2/5\n",
            "1875/1875 [==============================] - 41s 22ms/step - loss: 0.0844 - accuracy: 0.9736 - val_loss: 0.0498 - val_accuracy: 0.9858\n",
            "Epoch 3/5\n",
            "1875/1875 [==============================] - 43s 23ms/step - loss: 0.0576 - accuracy: 0.9821 - val_loss: 0.0462 - val_accuracy: 0.9874\n",
            "Epoch 4/5\n",
            "1875/1875 [==============================] - 44s 24ms/step - loss: 0.0445 - accuracy: 0.9859 - val_loss: 0.0361 - val_accuracy: 0.9892\n",
            "Epoch 5/5\n",
            "1875/1875 [==============================] - 44s 24ms/step - loss: 0.0372 - accuracy: 0.9882 - val_loss: 0.0238 - val_accuracy: 0.9930\n"
          ]
        },
        {
          "output_type": "execute_result",
          "data": {
            "text/plain": [
              "<keras.callbacks.History at 0x7fe7c1db7c50>"
            ]
          },
          "metadata": {},
          "execution_count": 8
        }
      ]
    },
    {
      "cell_type": "code",
      "source": [
        "lenet_5_model.evaluate(X_test,y_test)"
      ],
      "metadata": {
        "colab": {
          "base_uri": "https://localhost:8080/"
        },
        "id": "6JAOwEydWWVw",
        "outputId": "d57d0144-5917-42d8-886a-a3b9aab7529e"
      },
      "execution_count": null,
      "outputs": [
        {
          "output_type": "stream",
          "name": "stdout",
          "text": [
            "313/313 [==============================] - 4s 12ms/step - loss: 0.0497 - accuracy: 0.9842\n"
          ]
        },
        {
          "output_type": "execute_result",
          "data": {
            "text/plain": [
              "[0.049666810780763626, 0.9842000007629395]"
            ]
          },
          "metadata": {},
          "execution_count": 9
        }
      ]
    },
    {
      "cell_type": "code",
      "source": [
        "y_train_pred=lenet_5_model.predict(X_train)"
      ],
      "metadata": {
        "id": "7exhA1OSbwzw"
      },
      "execution_count": null,
      "outputs": []
    },
    {
      "cell_type": "code",
      "source": [
        "y_pred=np.zeros(60000)\n",
        "for i in range(60000):\n",
        "  y_pred[i]=np.argmax(y_train_pred[i])"
      ],
      "metadata": {
        "id": "scU4As8fdJkP"
      },
      "execution_count": null,
      "outputs": []
    },
    {
      "cell_type": "code",
      "source": [
        "y_pred"
      ],
      "metadata": {
        "colab": {
          "base_uri": "https://localhost:8080/"
        },
        "id": "DaCokHHTeYhv",
        "outputId": "762178a0-0fbc-4372-bcb8-2c94523475dd"
      },
      "execution_count": null,
      "outputs": [
        {
          "output_type": "execute_result",
          "data": {
            "text/plain": [
              "array([3., 0., 4., ..., 5., 6., 8.])"
            ]
          },
          "metadata": {},
          "execution_count": 12
        }
      ]
    },
    {
      "cell_type": "code",
      "source": [
        "c_mat=confusion_matrix(y_train,y_pred)\n",
        "c_mat"
      ],
      "metadata": {
        "colab": {
          "base_uri": "https://localhost:8080/"
        },
        "id": "Z-odp1OZfwcE",
        "outputId": "64eb84b9-0690-4272-e638-d0d99bcc303f"
      },
      "execution_count": null,
      "outputs": [
        {
          "output_type": "execute_result",
          "data": {
            "text/plain": [
              "array([[5901,    1,    2,    0,    0,    2,    8,    2,    4,    3],\n",
              "       [   0, 6689,    2,    3,    1,    0,    3,   35,    9,    0],\n",
              "       [   6,    3, 5892,   18,    0,    0,    0,   31,    6,    2],\n",
              "       [   0,    0,    3, 6096,    0,   17,    0,    7,    4,    4],\n",
              "       [   1,    5,    0,    1, 5783,    0,    9,    8,    4,   31],\n",
              "       [   1,    1,    0,   11,    0, 5401,    4,    0,    1,    2],\n",
              "       [   2,    0,    0,    1,    2,   15, 5891,    0,    7,    0],\n",
              "       [   1,    4,    3,    3,    0,    0,    0, 6251,    0,    3],\n",
              "       [   3,    6,    2,   19,    0,   12,    1,    8, 5795,    5],\n",
              "       [   4,    2,    0,   10,   17,   15,    0,   43,    9, 5849]])"
            ]
          },
          "metadata": {},
          "execution_count": 13
        }
      ]
    },
    {
      "cell_type": "code",
      "source": [
        "plt.matshow(c_mat,cmap='gray')\n"
      ],
      "metadata": {
        "colab": {
          "base_uri": "https://localhost:8080/",
          "height": 293
        },
        "id": "Qps2iXAof8L6",
        "outputId": "cb04b225-44ee-4d9b-9789-721e23253aed"
      },
      "execution_count": null,
      "outputs": [
        {
          "output_type": "execute_result",
          "data": {
            "text/plain": [
              "<matplotlib.image.AxesImage at 0x7fe7c1e2d610>"
            ]
          },
          "metadata": {},
          "execution_count": 14
        },
        {
          "output_type": "display_data",
          "data": {
            "text/plain": [
              "<Figure size 288x288 with 1 Axes>"
            ],
            "image/png": "[encoded data removed]"
          },
          "metadata": {
            "needs_background": "light"
          }
        }
      ]
    },
    {
      "cell_type": "code",
      "source": [
        "lenet_5_model_V_2 = keras.models.Sequential([\n",
        "    keras.layers.Conv2D(6, kernel_size=5, strides=1,  activation='relu', input_shape=(28,28,1), padding='same'),\n",
        "    keras.layers.MaxPool2D(),\n",
        "    keras.layers.Conv2D(16, kernel_size=5, strides=1, activation='relu', padding='valid'),\n",
        "    keras.layers.MaxPool2D(),\n",
        "    keras.layers.Conv2D(120, kernel_size=5, strides=1, activation='relu', padding='valid'),\n",
        "    keras.layers.Flatten(),  \n",
        "    keras.layers.Dense(84, activation='relu'),\n",
        "    keras.layers.Dense(10, activation='softmax') \n",
        "])"
      ],
      "metadata": {
        "id": "DlF5s6tkgM53"
      },
      "execution_count": null,
      "outputs": []
    },
    {
      "cell_type": "code",
      "source": [
        "lenet_5_model_V_2.compile(optimizer='adam',loss=keras.losses.sparse_categorical_crossentropy,metrics=['accuracy'])"
      ],
      "metadata": {
        "id": "tfknaAr5idG0"
      },
      "execution_count": null,
      "outputs": []
    },
    {
      "cell_type": "code",
      "source": [
        "lenet_5_model_V_2.fit(X_train,y_train,epochs=5,validation_data=(X_val,y_val))"
      ],
      "metadata": {
        "colab": {
          "base_uri": "https://localhost:8080/"
        },
        "id": "XPFr2PNDjBqY",
        "outputId": "1cb6e79b-75a1-4e33-fee1-ed8dd9103c82"
      },
      "execution_count": null,
      "outputs": [
        {
          "output_type": "stream",
          "name": "stdout",
          "text": [
            "Epoch 1/5\n",
            "1875/1875 [==============================] - 48s 25ms/step - loss: 0.1808 - accuracy: 0.9437 - val_loss: 0.0571 - val_accuracy: 0.9846\n",
            "Epoch 2/5\n",
            "1875/1875 [==============================] - 46s 24ms/step - loss: 0.0602 - accuracy: 0.9817 - val_loss: 0.0368 - val_accuracy: 0.9884\n",
            "Epoch 3/5\n",
            "1875/1875 [==============================] - 46s 25ms/step - loss: 0.0442 - accuracy: 0.9861 - val_loss: 0.0364 - val_accuracy: 0.9888\n",
            "Epoch 4/5\n",
            "1875/1875 [==============================] - 46s 25ms/step - loss: 0.0348 - accuracy: 0.9891 - val_loss: 0.0284 - val_accuracy: 0.9900\n",
            "Epoch 5/5\n",
            "1875/1875 [==============================] - 45s 24ms/step - loss: 0.0282 - accuracy: 0.9912 - val_loss: 0.0180 - val_accuracy: 0.9938\n"
          ]
        }
      ]
    },
    {
      "cell_type": "code",
      "source": [
        "lenet_5_model.evaluate(X_test,y_test)"
      ],
      "metadata": {
        "id": "_5neefgzjFf9",
        "colab": {
          "base_uri": "https://localhost:8080/"
        },
        "outputId": "1bd50300-fa58-43dd-df7b-075c233a371f"
      },
      "execution_count": 20,
      "outputs": [
        {
          "output_type": "stream",
          "name": "stdout",
          "text": [
            "313/313 [==============================] - 5s 17ms/step - loss: 0.0497 - accuracy: 0.9842\n"
          ]
        },
        {
          "output_type": "execute_result",
          "data": {
            "text/plain": [
              "[0.049666810780763626, 0.9842000007629395]"
            ]
          },
          "metadata": {},
          "execution_count": 20
        }
      ]
    },
    {
      "cell_type": "code",
      "source": [
        ""
      ],
      "metadata": {
        "id": "AHXbEOhrpTJt"
      },
      "execution_count": null,
      "outputs": []
    }
  ]
}